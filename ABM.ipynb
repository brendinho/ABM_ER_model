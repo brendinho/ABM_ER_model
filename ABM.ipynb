{
 "cells": [
  {
   "cell_type": "markdown",
   "metadata": {
    "collapsed": false
   },
   "source": [
    "RIVERDALE GENERAL HOSPITAL\n",
    "\n",
    "This is a simple model, built in Python, of the emergency room discussed in the WICI workshop.\n",
    "\n",
    "We're looking to see how we can optimally use the given resources to optimise the wait times in the ER, specifically the time between triage and doctor consultation for all patients, but especially the most serious patients (judjed by triage).\n",
    "\n",
    "There are many tools for visualising ABMs, such as those found on the sites http://www.agent-based-models.com/blog/resources/simulators/ and https://en.wikipedia.org/wiki/Comparison_of_agent-based_modeling_software. Just google \"agent based model gui\"; that should do it. I'm not familiar with any of those tools: I prefer looking at a sea of code, but hopefully I'll learn one of them for fun.\n",
    "\n",
    "README !!!!!! \n",
    "\n",
    "To run the code, especially after changing parameter values, go to the \"Kernel\" option in the toolbar above, and hit \"Restart and run all\". The reason we have to burn everything and start over is that the notebook stores variables and values for later use. So, you could end up using old values instead of new ones, especially if you evaluate it box-by-box. Start fresh every time."
   ]
  },
  {
   "cell_type": "markdown",
   "metadata": {
    "collapsed": false
   },
   "source": [
    "#-----------------------------------------------------------------------------------------------------\n",
    "\n",
    "This first cell just imports libraries for functions and data structures we will use."
   ]
  },
  {
   "cell_type": "code",
   "execution_count": 1,
   "metadata": {
    "collapsed": false
   },
   "outputs": [
   ],
   "source": [
    "# Brendon Phillips\n",
    "# PhD candidate\n",
    "# Department of Applied Mathematics\n",
    "# Faculty of Mathematics\n",
    "# University of Waterloo\n",
    "\n",
    "# Agent-based model of an Emergency Room\n",
    "# importing the libraries with the functions we need\n",
    "\n",
    "# a collection of data structures\n",
    "import collections\n",
    "\n",
    "# a set of mathematical functions used\n",
    "import math\n",
    "\n",
    "# defines the 'queue' data structure, used to preserve priority (first in, first out)\n",
    "import queue\n",
    "\n",
    "# this implements a \"priority queue\". it's a normal queue (first in, first out), but also accounts for priority\n",
    "# so, objects with higher priority always come out first, and then lower-priority objects after them\n",
    "# we will use this for the queues: waiting for a bed, and waiting to see the doctor\n",
    "# the patients with lower ranks in triage will get priority, ahead of the less serious patients\n",
    "import heapq\n",
    "\n",
    "# this library gives us different distribution of random numbers to be used in the simulation\n",
    "import numpy.random"
   ]
  },
  {
   "cell_type": "markdown",
   "metadata": {
    "collapsed": false
   },
   "source": [
    "The next cell gives the parameter values of the simulation. The names should be fairly self-explanatory. Feel free to change these values for the simulation, and see how the output of the simulation changes."
   ]
  },
  {
   "cell_type": "code",
   "execution_count": 2,
   "metadata": {
    "collapsed": false
   },
   "outputs": [
   ],
   "source": [
    "# each time step represents 5 minutes. this relates to the time step chosen during the workshop\n",
    "# always choose the time step as the shortest process occurring in each time step\n",
    "# in this case, the shortest process is by the receptionists, who we assume take 5 minutes\n",
    "# therefore each time step in the model represents 5 minutes\n",
    "\n",
    "# this represents 6 months, and takes a looong time to run. feel free to reduce it\n",
    "number_of_time_steps_in_the_simulation = 52560\n",
    "\n",
    "\n",
    "# this is the time at which each an agent leaves the ER flow due to frustration at the length of the wait\n",
    "# feel free to change this value\n",
    "# remember that each time step represents 5 minutes\n",
    "\n",
    "frustration_threshold_measured_in_time_steps = 96 # represents 8 hours (96 5-minute chunks)\n",
    "\n",
    "# the number of time steps each nurse takes to triage each patient\n",
    "max_nurse_triage_time = 2\n",
    "\n",
    "number_of_beds_in_the_ER = 20\n",
    "\n",
    "# this refers to the number of doctors in the ER.\n",
    "number_of_doctors = 8\n",
    "\n",
    "number_of_receptionists = 3\n",
    "\n",
    "number_of_triage_nurses  = 6"
   ]
  },
  {
   "cell_type": "markdown",
   "metadata": {
    "collapsed": false
   },
   "source": [
    "Find below the lists that we will use to store various queues in the program, to keep the patients in order of arrival or priority. \n",
    "\n",
    "A Deque (pronounced 'deck', short for double-ended queue) is a structure that keeps the order of the objects that it holds, as well as allowing removal from both the left and right sides (rather than a queue, which only allows removal from the front - think of the lines in the supermarket).\n",
    "\n",
    "The reason I used a deque (rather than a queue or list) is so that we can easily remove any patients that become frustrated or die. With a simple queue, we'd have to remove all the elements in front of it, but the deque's'Python implementation is easier to use (other programming languages are different).\n",
    "\n",
    "Priority queues are queues (first-in, first-out), but they allow objects of greater \"importance\" (priority) to skip to the front of the queue, so that the highest-priority objects are always removed first, before others. This is important for assigning beds and doctors, since the more serious cases in the ER will be seen first."
   ]
  },
  {
   "cell_type": "code",
   "execution_count": 3,
   "metadata": {
    "collapsed": false
   },
   "outputs": [
   ],
   "source": [
    "# a deque (double ended queue) allows us to represent a queue (first in, first out), as well as removing any element we want from the queue\n",
    "# we'll remove any agent that gets frustrated at the wait, and anyone that dies during the simulation\n",
    "waiting_for_Registration = collections.deque()\n",
    "\n",
    "# the same as above\n",
    "waiting_for_Triage = collections.deque()\n",
    "\n",
    "# we'll use this as a \"priority queue\"; first-in, first-out, but objects with a higher priority always come out first, ahead of lower-priority objects\n",
    "triaged_and_waiting_for_a_bed = []\n",
    "\n",
    "# the same as the above. more serious cases will be given beds in the ER bay faster than lower prioritry patients\n",
    "in_Bed_waiting_for_MD = []\n",
    "\n",
    "# these lines just change the lists above into the priority queues that we want.\n",
    "# don't worry too much about this. there's a looooong comp-sciency explanation here\n",
    "heapq.heapify(triaged_and_waiting_for_a_bed)\n",
    "heapq.heapify(in_Bed_waiting_for_MD)\n"
   ]
  },
  {
   "cell_type": "markdown",
   "metadata": {
    "collapsed": false
   },
   "source": [
    "The cell object below is the \"Patient\" agent. Remember that agents (in general) must be:\n",
    "\n",
    "1) autonomous - capable of independent action\n",
    "2) self-contained - the patient has all its information. no one else owns it\n",
    "3) capable of passive or active response\n",
    "\n",
    "A \"class\" is a simple template for what each agent is. You say what properties the agent has and what it does, as an idea. The actual object is created later.\n",
    "\n",
    "Many of these qualities may not seem important now, but will be important to gathering data.\n",
    "\n",
    "A sigmoid curve (referrenced below) is a curve similar to \\[f(x)=\\frac1{1+e^{-x}}\\]"
   ]
  },
  {
   "cell_type": "code",
   "execution_count": 4,
   "metadata": {
    "collapsed": false
   },
   "outputs": [
   ],
   "source": [
    "class Patient:\n",
    "\n",
    "    def __init__(self):\n",
    "\n",
    "        # the patient pulls a number when they enter the waiting room\n",
    "        self.patient_number = -1\n",
    "\n",
    "        # tells the time that the agent arrived to the ER\n",
    "        self.time_of_arrival = -1\n",
    "\n",
    "        # each patient will be assigned a rank by the nurse during triage\n",
    "        # triage ranks aare between 1 and 4 inclusive, with 1 being the most serious, and 4 being the least serious\n",
    "        # the initial -1 value is a \"placeholder\"; a nonsense value. it if pops up, we know we've done something wrong, and the code will crash\n",
    "        self.triage_rank = -1\n",
    "\n",
    "        # this marks the time that the patient is finally registered, and the same for the other numbers\n",
    "        self.done_reception = 0\n",
    "\n",
    "        # time that patient gets through the triage, and is assigned a rank\n",
    "        self.done_triage = 0\n",
    "\n",
    "        # the time that the patient get a bed in the ER bay\n",
    "        self.time_got_a_bed = 0\n",
    "\n",
    "        # the time that the patient sees the doctor\n",
    "        self.saw_the_doctor = 0\n",
    "\n",
    "        # the time that the patient exited the simulation, either by death, frustration, or discharge (after seeing the doctor)\n",
    "        self.time_exited = 0\n",
    "\n",
    "        # how the patient arrives to the ER\n",
    "        # \"A\" for ambulance, and \"W\" for walk-in\n",
    "        self.mode_of_arrival = '\\0'\n",
    "\n",
    "        # tracks the total time spent waiting by the patient\n",
    "        self.total_wait_time = 0\n",
    "\n",
    "    # this function defines what is means for two objects to be \"equal\", hence the name \"eq\"\n",
    "    # it's a good idea to include this for objects in every class\n",
    "    # this function says that two patients (\"self\" and \"other\") are equal if *all* their proporties are equal\n",
    "    def __eq__(self, other):\n",
    "        return ((self.patient_number\t== other.patient_number) and \\\n",
    "            (self.triage_rank \t\t\t== other.triage_rank) and \\\n",
    "            (self.time_of_arrival\t\t== other.time_of_arrival) and \\\n",
    "            (self.done_reception\t\t== other.done_reception) and \\\n",
    "            (self.fone_triage\t\t\t== other.done_triage) and \\\n",
    "            (self.time_got_a_bed\t\t== other.time_got_a_bed) and \\\n",
    "            (self.saw_the_doctor\t\t== other.saw_the_doctor) and \\\n",
    "            (self.time_exited\t\t\t== other.time_exited) and \\\n",
    "            (self.mode_of_arrival\t\t== other.mode_of_arrival) and \\\n",
    "            (self.total_wait_time\t\t== other.wait_time))\n",
    "\n",
    "    # this function defines what it means for one object (\"self\") to be \"less than\" another one (\"other\")\n",
    "    # we discussed the \"priority queue\" before. the most serious patients are pulled from the queue before the less serious ones\n",
    "    # therefore, to sort the priority queue, we'll say that one object is \"less than\" the other if it has a lower triage number\n",
    "    # reminder: the lower numbers are the most serious ones, as is with numbered triage scales\n",
    "    # \"T1\" is more serious than \"T2\", which is more serious than \"T3\", and so on...\n",
    "    # objects with lower priority numbers exit the queue first, so this is exactly what we want\n",
    "    def __lt__(self, other):\n",
    "        return (self.triage_rank < other.triage_rank)\n",
    "\n",
    "    # gives the number assigned to the patient when they arrived to the ER\n",
    "    # this is NOT a priority score; it's just a regular number for ordering patients\n",
    "    def patient_number(self):\n",
    "        return self.patient_number\n",
    "\n",
    "    # function telling whether the agent should get frustrated and exit the simulation, or stay in the ER flow for another time step\n",
    "    # this is defined by the threshold set in the model parameter cell above\n",
    "    def should_I_leave(self):\n",
    "        return (self.total_wait_time > frustration_threshold_measured_in_time_steps)\n",
    "\n",
    "    # calculates and return the probability that an agent will die during the simulation\n",
    "    # in line with some research papers (references given at the end), the probability of death depends on:\n",
    "    #    . the severity of the complaint (triage rank)\n",
    "    #    . the length of time waited before receiving adequate medical attention (total wait time)\n",
    "    # for now, we'll assume that patients don't die during treatment. it's a bad assumption, but it's in line with other research models\n",
    "    # always keep in mind that trying to model the real world *exactly* will give you a useless model, with no power of prediction\n",
    "    def death_probability(self):\n",
    "\n",
    "        # assume that the patient can't die before triage; it's a simplifying assumption\n",
    "        if self.triage_rank == -1: return 0.0\n",
    "\n",
    "        # this is a nonsense function\n",
    "        # it's based on the shape of a sigmoid curve, and scaled so that lower priority results in lower probability,\n",
    "        # and higher priority or longer wait times result in higher probabilities of death\n",
    "        # usually, instead of a plain function, we'd gather data of the death rates of patients in each triage category. and use that for the model\n",
    "        # for example:\n",
    "        #\n",
    "        # if self.triage_rank == 1:\n",
    "        #     return rate specific to the most serious patients\n",
    "        # elif self.triage_rank = 2:\n",
    "        #     etc...\n",
    "\n",
    "        return 0.00001/(1 + numpy.exp(-self.total_wait_time))*(3/715*self.total_wait_time + 87/286)*(-33*self.triage_rank/100 + 133/100)"
   ]
  },
  {
   "cell_type": "markdown",
   "metadata": {
    "collapsed": false
   },
   "source": [
    "This is the description of the \"Triage Nurse\" agent in the simulation. This agent keeps track of the patient it's seeing, and the time spent on the patient. When the consultation is done (the time spent hits the threshold parameter value given above), the consultation ends.\n",
    "\n",
    "There is no \"ER Nurse\" agent, since they work with the doctors, so that the doctor-nurse pair in the ER can be represented as a single object. It's called \"Doctor\", further below."
   ]
  },
  {
   "cell_type": "code",
   "execution_count": 5,
   "metadata": {
    "collapsed": false
   },
   "outputs": [
   ],
   "source": [
    "class Triage_Nurse:\n",
    "\n",
    "    # this function is used to create the agent\n",
    "    def __init__(self):\n",
    "        # time spent on the current patient\n",
    "        self.__triage_time = 0\n",
    "\n",
    "        #the patient currently being seen\n",
    "        self.__is_currently_seeing_patient = Patient()\n",
    "\n",
    "    # tells whether the nurse is triaging a patient at the moment, or not\n",
    "    def is_busy(self):\n",
    "        return (self.__triage_time != 0)\n",
    "\n",
    "    # tells the agent to start triaging the given patient\n",
    "    # this starts the triage_time counter, and assigns the patient being seen\n",
    "    def triage_patient(self, person):\n",
    "        self.__triage_time = 1\n",
    "        self.__is_currently_seeing_patient = person\n",
    "\n",
    "    # if the consultation has not run for the full length, this function tels the object to add 1 to the consultation time, without swapping out the patient\n",
    "    def continue_triage(self):\n",
    "        self.__triage_time += 1\n",
    "\n",
    "    # tells the agent to finish with the current patient, release them, and reset the time counter\n",
    "    def finish_triage(self):\n",
    "        self.__is_currently_seeing_patient = Patient() # Patient() is a placeholder value\n",
    "        self.__triage_time = 0\n",
    "\n",
    "    # return the time spent on the current patient\n",
    "    def time_spent(self):\n",
    "        return self.__triage_time\n",
    "\n",
    "    # tell which patient the nurse is currently seeing to\n",
    "    def currently_seeing(self):\n",
    "        return self.__is_currently_seeing_patient\n"
   ]
  },
  {
   "cell_type": "markdown",
   "metadata": {
    "collapsed": false
   },
   "source": [
    "This is the \"Doctor\" class. The \"Doctor\" and \"Triage Nurse\" agents in this simulation function almost the same way."
   ]
  },
  {
   "cell_type": "code",
   "execution_count": 6,
   "metadata": {
    "collapsed": false
   },
   "outputs": [
   ],
   "source": [
    "class Doctor:\n",
    "\n",
    "    def __init__(self):\n",
    "        self.treatment_time = 0\n",
    "        self.is_currently_seeing_patient = Patient()\n",
    "\n",
    "    def is_busy(self):\n",
    "        return (self.treatment_time != 0)\n",
    "\n",
    "    def treat_patient(self, person):\n",
    "        self.treatment_time = 1\n",
    "        self.is_currently_seeing_patient = person\n",
    "\n",
    "    def continue_treatment(self):\n",
    "        self.treatment_time += 1\n",
    "\n",
    "    def finish_treatment(self):\n",
    "        self.is_currently_seeing_patient = Patient()\n",
    "        self.treatment_time = 0\n",
    "\n",
    "    def time_spent(self):\n",
    "        return self.treatment_time\n",
    "\n",
    "    def currently_treating(self):\n",
    "        return self.is_currently_seeing_patient\n",
    "\n",
    "    # returns the triage rank of the patient currently being seen\n",
    "    # this function is used to calculate the treatment time given to each patient\n",
    "    def triage_rank_of_patient(self):\n",
    "        return self.is_currently_seeing_patient.triage_rank\n"
   ]
  },
  {
   "cell_type": "markdown",
   "metadata": {
    "collapsed": false
   },
   "source": [
    "These three lists catch the Patient agents leaving the flow of the ER, either from death, frustration, or discharge (after the doctor is finished)."
   ]
  },
  {
   "cell_type": "code",
   "execution_count": 7,
   "metadata": {
    "collapsed": false
   },
   "outputs": [
   ],
   "source": [
    "Dead = []\n",
    "Discharged = []\n",
    "Left_Without_Being_Seen = []"
   ]
  },
  {
   "cell_type": "markdown",
   "metadata": {
    "collapsed": false
   },
   "source": [
    "This function adds 1 to the wait times of all agents, and removes the agents that are frustrated (total wait time has hit the frustration threshold parameter). Patients are only allowed to leave the simulation this way, if they have triage numbers 3 or 4. \n",
    "\n",
    "We're assuming that those patients with numbers 1 and 2 will not leave the ER, since they have higher priority in all the queues, and are serious enough to require medical care."
   ]
  },
  {
   "cell_type": "code",
   "execution_count": 8,
   "metadata": {
    "collapsed": false
   },
   "outputs": [
   ],
   "source": [
    "def increment_waiting_time_and_remove_frustrated_patients(D, time_step):\n",
    "\n",
    "    global Left_Without_Being_Seen\n",
    "\n",
    "    # we want to find the position in the list where frustrated patients are, that is:\n",
    "    # 1. their wait time is above the frustration threshold\n",
    "    # 2. the triage rank is greater than 2\n",
    "    index = 0\n",
    "\n",
    "    while index != -1:\n",
    "\n",
    "        # find the position of the agent. if there aren't any more frustrated patients, skip to the end of the function\n",
    "        try:\n",
    "            index = D.index(next( z for z in D if (z.should_I_leave() and z.triage_rank > 2)  ))\n",
    "        except StopIteration:\n",
    "            index = -1\n",
    "            break\n",
    "\n",
    "        # remove the frustrated patient\n",
    "        Frustrated_Patient = D[index]\n",
    "        D.remove(Frustrated_Patient)\n",
    "        Frustrated_Patient.time_exited = time_step\n",
    "        Left_Without_Being_Seen.append( Frustrated_Patient )\n",
    "\n",
    "    # for every other non-frustrated patient, increment their wait time by 1\n",
    "    for patient in D:\n",
    "        patient.total_wait_time += 1\n",
    "\n",
    "    # make sure that we are still accounting for the priorities of the patients\n",
    "    if type(D) == list:\n",
    "            heapq.heapify(D)"
   ]
  },
  {
   "cell_type": "markdown",
   "metadata": {
    "collapsed": false
   },
   "source": [
    "This function removes all the dead patient from the lists given (D). Remember that the probability of death is based on both the triage rank of the patient, and the total time spend waiting in the ER flow."
   ]
  },
  {
   "cell_type": "code",
   "execution_count": 9,
   "metadata": {
    "collapsed": false
   },
   "outputs": [
   ],
   "source": [
    "def remove_dead_patients(D, time_step):\n",
    "\n",
    "    global Dead\n",
    "    index = 0\n",
    "    while index != -1:\n",
    "\n",
    "        # find the positions of the nodes marked for death\n",
    "        try:\n",
    "            index = D.index(next( z for z in D if (numpy.random.uniform() < z.death_probability())  ))\n",
    "        except StopIteration:\n",
    "            index = -1\n",
    "            break\n",
    "\n",
    "        # legit kill the patient and add them to the death list\n",
    "        Dead_Patient = D[index]\n",
    "        D.remove(Dead_Patient)\n",
    "        Dead_Patient.time_exited = time_step\n",
    "        Dead.append( Dead_Patient )\n"
   ]
  },
  {
   "cell_type": "markdown",
   "metadata": {
    "collapsed": false
   },
   "source": [
    "Tis just creates a list of all the \"Triage Nurse\" and Doctor agents used in the simulation. We can do this beforehand, since the number of doctors and nurses does not change during the simulation.\n",
    "\n",
    "For the Patients, we'll create those on the fly."
   ]
  },
  {
   "cell_type": "code",
   "execution_count": 10,
   "metadata": {
    "collapsed": false
   },
   "outputs": [
   ],
   "source": [
    "Pool_of_Triage_Nurses\t= [ Triage_Nurse() for i in range(number_of_triage_nurses) ]\n",
    "Pool_of_Doctors         = [ Doctor() for i in range(number_of_doctors) ]"
   ]
  },
  {
   "cell_type": "markdown",
   "metadata": {
    "collapsed": false
   },
   "source": [
    "The following function tells the doctor the time length of the treatment for each patient. Notice that treatment times are larger for more serious cases, wile those less serious are shorter."
   ]
  },
  {
   "cell_type": "code",
   "execution_count": 11,
   "metadata": {
    "collapsed": false
   },
   "outputs": [
   ],
   "source": [
    "# remember that each time step represents 5 minutes\n",
    "def treatment_time_for_this_case(triage_rank):\n",
    "    if triage_rank == 1: return 60 # 5 hours\n",
    "    if triage_rank == 2: return 30 # 2.5 hours \n",
    "    if triage_rank == 3: return 12 # 1 hour\n",
    "    if triage_rank == 4: return 6 # half an hour\n",
    "    else: return None"
   ]
  },
  {
   "cell_type": "markdown",
   "metadata": {
    "collapsed": false
   },
   "source": [
    "This tracks the number of patients currently in the simulation, and gives each Patient agent a new number when it enters."
   ]
  },
  {
   "cell_type": "code",
   "execution_count": 12,
   "metadata": {
    "collapsed": false
   },
   "outputs": [
   ],
   "source": [
    "number_of_total_patients = 0\n",
    "\n",
    "def get_new_patient_number():\n",
    "    global number_of_total_patients\n",
    "\n",
    "    # increment the nunber of patients in the model, and return the next patient number\n",
    "    number_of_total_patients += 1;\n",
    "    return number_of_total_patients\n"
   ]
  },
  {
   "cell_type": "markdown",
   "metadata": {
    "collapsed": false
   },
   "source": [
    "Finally, we get to the actual simulation. Since I can't break it up into separate cells, I'll write hella comments.\n",
    "\n",
    "Quick rundown - in each timestep we:\n",
    "1)  process walk-in and ambulance patients. ambulance arrivals skip registration and go straight to triage.\n",
    "2)  patients pass through registration, and are directed to the triage queue\n",
    "3)  each nurse will take a new patient once they are not busy, and patients are available\n",
    "4)  after triage, patients will wait for a bed, with the more serious patients given higher priority\n",
    "5)  each doctor will take a new patient, once they are available, and patients are still waiting\n",
    "6)  frustrated and dead patients will be removed"
   ]
  },
  {
   "cell_type": "code",
   "execution_count": 13,
   "metadata": {
    "collapsed": false,
    "scrolled": true
   },
   "outputs": [
   ],
   "source": [
    "# for all time steps in the simulation\n",
    "for tau in range(number_of_time_steps_in_the_simulation):\n",
    "\n",
    "    # We use a Poisson process to model patient arrivals.\n",
    "    # modes of arrival: \"W\" - walk-in, and 'A' - ambulance\n",
    "\n",
    "    # all the walk-in patients are given a new number enqueued to see the receptionists\n",
    "    for a_walk_in_patient in range( numpy.random.poisson(1) ):\n",
    "\n",
    "        New_Patient = Patient() # create an new agent\n",
    "        New_Patient.patient_number = get_new_patient_number()\n",
    "        New_Patient.time_of_arrival = tau\n",
    "        New_Patient.mode_of_arrival = 'W'\n",
    "        waiting_for_Registration.append( New_Patient ) # add it to the registration queue\n",
    "\n",
    "\n",
    "\n",
    "    # all the ambulance arrivals are sent immediately to triage\n",
    "    # assume that the ambulances bring patients only at the top of every hour\n",
    "    # tau will be a multiple of 12 at the start of every hour (each time step is 5 mins, and 60 mins per hour) - 12 time steps per hour\n",
    "    if tau%12 == 0:\n",
    "        for person in range( numpy.random.poisson(1) ):\n",
    "\n",
    "            Ambulance_Patient = Patient() # create a new agent\n",
    "            Ambulance_Patient.patient_number = get_new_patient_number()\n",
    "            Ambulance_Patient.time_of_arrival = tau\n",
    "            Ambulance_Patient.mode_of_arrival = 'A'\n",
    "            waiting_for_Triage.append( Ambulance_Patient ) # send them straight to triage\n",
    "\n",
    "\n",
    "\n",
    "    # each receptionist will process a single patient each time step\n",
    "    for i in range(number_of_receptionists):\n",
    "\n",
    "        # if there is no-one else to be registered, move on\n",
    "        if not waiting_for_Registration :\n",
    "            break\n",
    "\n",
    "        # register the patient, and send them for triage\n",
    "        Just_Got_Registered = waiting_for_Registration.popleft()\n",
    "        Just_Got_Registered.done_reception = tau\n",
    "        waiting_for_Triage.append(Just_Got_Registered)\n",
    "\n",
    "\n",
    "\n",
    "    # for each available nurse\n",
    "    for RN in Pool_of_Triage_Nurses:\n",
    "\n",
    "        # break the loop is there is no-one waiting for triage\n",
    "        if not waiting_for_Triage :\n",
    "            break\n",
    "\n",
    "        # if this nurse is busy\n",
    "        if RN.is_busy():\n",
    "\n",
    "            # if triage time is not done, continue (add 1 to the consultation time)\n",
    "            if RN.time_spent() < max_nurse_triage_time :\n",
    "                RN.continue_triage()\n",
    "\n",
    "            # otherwise (if the triage is done)\n",
    "            else:\n",
    "                # assign a triage rank to the patient\n",
    "                Old_Patient = RN.currently_seeing()\n",
    "\n",
    "                # we assume that serious complaints are less common than people overreacting to a bad cold\n",
    "                # so, we want a triage distribution heavily skewed towards giving lower triage scores\n",
    "                assigned_rank = int(numpy.round(numpy.random.poisson(4)))\n",
    "\n",
    "                # all triage nunbers must be less than or equal to 4\n",
    "                assigned_rank = 4 if (assigned_rank >= 4) else assigned_rank\n",
    "\n",
    "                # similarly, all nunbers must be more than 0\n",
    "                assigned_rank = 1 if assigned_rank == 0 else assigned_rank\n",
    "\n",
    "                # finally, give the number\n",
    "                Old_Patient.triage_rank = assigned_rank\n",
    "\n",
    "                # send old patient to go wait for an available bed in the ER bay\n",
    "                heapq.heappush(triaged_and_waiting_for_a_bed, Old_Patient)\n",
    "                Old_Patient.done_triage = tau\n",
    "\n",
    "                # tell the nurse to finish with this patient, and start triaging a new one immediately\n",
    "                # simplifying assumption - nurses and doctors do not take breaks\n",
    "                RN.finish_triage()\n",
    "                New_Patient = waiting_for_Triage.popleft()\n",
    "                RN.triage_patient( New_Patient )\n",
    "\n",
    "        # otherwise, if the nurse is not busy\n",
    "        else:\n",
    "            # get a new patient and start triaging\n",
    "            New_Patient = waiting_for_Triage.popleft()\n",
    "            RN.triage_patient( New_Patient )\n",
    "\n",
    "\n",
    "\n",
    "    # while there are still empty beds available in the ER bay\n",
    "    # i.e., the number of available beds is less than the max number given in the parameters above\n",
    "    while len(in_Bed_waiting_for_MD) < number_of_beds_in_the_ER:\n",
    "\n",
    "        # break the loop if there is no-one waiting for a bed\n",
    "        if not triaged_and_waiting_for_a_bed:\n",
    "            break\n",
    "        # get the patient in the list with the highest priority, and put them in a bed\n",
    "        Patient_Getting_a_Bed = heapq.heappop(triaged_and_waiting_for_a_bed)\n",
    "        heapq.heappush(in_Bed_waiting_for_MD, Patient_Getting_a_Bed)\n",
    "        Patient_Getting_a_Bed.time_got_a_bed = tau\n",
    "\n",
    "\n",
    "\n",
    "    # for each doctor in the pool\n",
    "    for MD in Pool_of_Doctors:\n",
    "\n",
    "        # break the loop is there is no-one waiting for a doctor\n",
    "        if not in_Bed_waiting_for_MD:\n",
    "            break\n",
    "\n",
    "        # if the doctor is currently with someone\n",
    "        if MD.is_busy():\n",
    "\n",
    "            # if the current treatment is not complete, continue with no change\n",
    "            if MD.time_spent() < treatment_time_for_this_case( MD.triage_rank_of_patient() ):\n",
    "                MD.continue_treatment()\n",
    "\n",
    "            # if treatment is complete\n",
    "            else:\n",
    "\n",
    "                # discharge the current patient\n",
    "                Done_Patient = MD.currently_treating()\n",
    "                Discharged.append( Done_Patient )\n",
    "                Done_Patient.time_exited = tau\n",
    "                MD.finish_treatment()\n",
    "\n",
    "                # immediately take the next patient (in bed) with the highest priority\n",
    "                New_Patient = heapq.heappop(in_Bed_waiting_for_MD)\n",
    "                MD.treat_patient( New_Patient )\n",
    "                New_Patient.saw_the_doctor = tau;\n",
    "\n",
    "        # if the doctor is not currently seeing a patient\n",
    "        else:\n",
    "\n",
    "            # immediately choose a new patient (in bed) with the highest priority\n",
    "            New_Patient = heapq.heappop(in_Bed_waiting_for_MD)\n",
    "            MD.treat_patient( New_Patient )\n",
    "            New_Patient.saw_the_doctor = tau\n",
    "\n",
    "    # go through all the waiting lists, and fire the frustrated patients\n",
    "    increment_waiting_time_and_remove_frustrated_patients(waiting_for_Triage, tau)\n",
    "    increment_waiting_time_and_remove_frustrated_patients(waiting_for_Registration, tau)\n",
    "    increment_waiting_time_and_remove_frustrated_patients(triaged_and_waiting_for_a_bed, tau)\n",
    "\n",
    "    # move all dead patients to the morgue\n",
    "    remove_dead_patients(waiting_for_Registration, tau)\n",
    "    remove_dead_patients(waiting_for_Triage, tau)\n",
    "    remove_dead_patients(triaged_and_waiting_for_a_bed, tau)\n",
    "    remove_dead_patients(in_Bed_waiting_for_MD, tau)\n"
   ]
  },
  {
   "cell_type": "code",
   "execution_count": 14,
   "metadata": {
    "collapsed": false
   },
   "outputs": [
    {
     "name": "stdout",
     "output_type": "stream",
     "text": [
      "\ttotal number of patients: 5377\n",
      "\twaiting for registration: 0\n",
      "\twaiting for triage: 0\n",
      "\tbeing triaged: 6\n",
      "\ttriaged and waiting for a bed: 475\n",
      "\tin bed waiting for a doctor: 20\n",
      "\tnumber being seen by doctor: 8\n",
      "\tnumber discharged: 839\n",
      "\tnumber left due to frustration: 3998\n",
      "\tnumber dead: 31\n"
     ]
    }
   ],
   "source": [
    "# print the stats of the run\n",
    "\n",
    "print(\"\\ttotal number of patients: {}\".format(number_of_total_patients))\n",
    "print(\"\\twaiting for registration: {}\".format( len(waiting_for_Registration) ))\n",
    "print(\"\\twaiting for triage: {}\".format( len(waiting_for_Triage) ))\n",
    "print(\"\\tbeing triaged: {}\".format(len(list( filter(lambda x: x.is_busy(), Pool_of_Triage_Nurses) ))) )\n",
    "print(\"\\ttriaged and waiting for a bed: {}\".format(len(triaged_and_waiting_for_a_bed)) )\n",
    "print(\"\\tin bed waiting for a doctor: {}\".format( len(in_Bed_waiting_for_MD) ))\n",
    "print(\"\\tnumber being seen by doctor: {}\".format( len(list( filter(lambda x: x.is_busy(), Pool_of_Doctors) ))) )\n",
    "print(\"\\tnumber discharged: {}\".format( len(Discharged) ) )\n",
    "print(\"\\tnumber left due to frustration: {}\".format( len(Left_Without_Being_Seen) ))\n",
    "print(\"\\tnumber dead: {}\".format( len(Dead) ))\n"
   ]
  },
  {
   "cell_type": "code",
   "execution_count": 15,
   "metadata": {
    "collapsed": false
   },
   "outputs": [
    {
     "name": "stdout",
     "output_type": "stream",
     "text": [
      "average wait time for discharged patients: 309.25268176400476\n"
     ]
    }
   ],
   "source": [
    "# average wait time for discharged patients\n",
    "\n",
    "# each time step represents 5 minutes\n",
    "\n",
    "cumulative_wait_time = 0\n",
    "\n",
    "for patient in Discharged:\n",
    "    cumulative_wait_time += patient.total_wait_time*5\n",
    "\n",
    "print(\"average wait time for discharged patients in minutes: {}\".format( cumulative_wait_time/len(Discharged) ))"
   ]
  },
  {
   "cell_type": "code",
   "execution_count": 16,
   "metadata": {
    "collapsed": false
   },
   "outputs": [
    {
     "name": "stdout",
     "output_type": "stream",
     "text": [
      "average times from triage to MD for DISCHARGED patients:\n",
      "\n",
      "\trank 1 patients: number: 498, time in minutes: 84.40763052208835\n",
      "\trank 2 patients: number: 317, time in minutes: 4021.9085173501576\n",
      "\trank 3 patients: number: 16, time in minutes: 30.0\n",
      "\trank 4 patients: number: 8, time in minutes: 13.125\n"
     ]
    }
   ],
   "source": [
    "# average wait times from triage to treatment, based on rank\n",
    "\n",
    "num_rank_1 = 0\n",
    "num_rank_2 = 0\n",
    "num_rank_3 = 0\n",
    "num_rank_4 = 0\n",
    "\n",
    "cumulative_time_from_triage_to_MD_rank_1 = 0\n",
    "cumulative_time_from_triage_to_MD_rank_2 = 0\n",
    "cumulative_time_from_triage_to_MD_rank_3 = 0\n",
    "cumulative_time_from_triage_to_MD_rank_4 = 0\n",
    "\n",
    "for patient in Discharged:\n",
    "\n",
    "    wait_time = (patient.saw_the_doctor - patient.done_triage)\n",
    "\n",
    "    # each time step represents 5 minutes\n",
    "\n",
    "    if patient.triage_rank == 1:\n",
    "        num_rank_1 += 1\n",
    "        cumulative_time_from_triage_to_MD_rank_1 += wait_time*5\n",
    "\n",
    "    elif patient.triage_rank == 2:\n",
    "        num_rank_2 += 1\n",
    "        cumulative_time_from_triage_to_MD_rank_2 += wait_time*5\n",
    "\n",
    "    elif patient.triage_rank == 3:\n",
    "        num_rank_3 += 1\n",
    "        cumulative_time_from_triage_to_MD_rank_3 += wait_time*5\n",
    "\n",
    "    elif patient.triage_rank == 4:\n",
    "        num_rank_4 += 1\n",
    "        cumulative_time_from_triage_to_MD_rank_4 += wait_time*5\n",
    "\n",
    "print(\"average times from triage to MD for DISCHARGED patients:\\n\")\n",
    "if num_rank_1 != 0: print(\"\\trank 1 patients: number: {}, time in minutes: {}\".format( num_rank_1, cumulative_time_from_triage_to_MD_rank_1 / num_rank_1 ))\n",
    "if num_rank_2 != 0: print(\"\\trank 2 patients: number: {}, time in minutes: {}\".format( num_rank_2, cumulative_time_from_triage_to_MD_rank_2 / num_rank_2 ))\n",
    "if num_rank_3 != 0: print(\"\\trank 3 patients: number: {}, time in minutes: {}\".format( num_rank_3, cumulative_time_from_triage_to_MD_rank_3 / num_rank_3 ))\n",
    "if num_rank_4 != 0: print(\"\\trank 4 patients: number: {}, time in minutes: {}\".format( num_rank_4, cumulative_time_from_triage_to_MD_rank_4 / num_rank_4 ))"
   ]
  },
  {
   "cell_type": "markdown",
   "metadata": {
    "collapsed": false
   },
   "source": [
    "There *may* be an error in the simulation that I haven't caught; 100 points for finding one!\n",
    "\n",
    "In conclusion, ABMs are good tools, but one must be careful in how they're modelled, coded and interpreted.\n",
    "It's ugly, but it works (Agent-Based Models is the cough syrup of modelling).\n",
    "\n",
    "There are also more directions available here, with the simple data we gathered:\n",
    "\n",
    "1) what are the differences in wait times between walk-ins and patients arriving by ambulance? is arrival by ambulance really an advantage here?\n",
    "\n",
    "2) notice that all the results we gathered so far pertain to the Discharged patients. Let's turn it around: for the Frustrated patients, at what stage did they leave the simulation? Can you use this information to find a bottleneck in the model? Is it what/where you expected?\n",
    "\n",
    "\n",
    "Happy simulating,\n",
    "\n",
    "Brendon\n",
    "\n",
    "b2philli@uwaterloo.ca"
   ]
  },
  {
   "cell_type": "code",
   "execution_count": 0,
   "metadata": {
    "collapsed": false
   },
   "outputs": [
   ],
   "source": [
   ]
  }
 ],
 "metadata": {
  "kernelspec": {
   "display_name": "Python 3 (Anaconda)",
   "language": "python",
   "name": "anaconda3"
  },
  "language_info": {
   "codemirror_mode": {
    "name": "ipython",
    "version": 3
   },
   "file_extension": ".py",
   "mimetype": "text/x-python",
   "name": "python",
   "nbconvert_exporter": "python",
   "pygments_lexer": "ipython3",
   "version": "3.5.5"
  }
 },
 "nbformat": 4,
 "nbformat_minor": 0
}